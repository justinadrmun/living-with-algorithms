{
 "cells": [
  {
   "cell_type": "markdown",
   "metadata": {},
   "source": [
    "# A framework for solving business problems with algorithms\n",
    "\n",
    "<style>\n",
    "  a {\n",
    "    color: #F95D2C !important;\n",
    "  }\n",
    "</style>\n",
    "\n",
    "`````{margin}\n",
    "```{figure} ./images/filler.png\n",
    "---\n",
    "align: center\n",
    "---\n",
    "```\n",
    "`````\n",
    "\n",
    "As businesses increasingly integrate algorithms into their operations, it becomes essential for learners to possess a structured framework to effectively solve problems using algorithms. Whether automating alerts, streamlining manual processes, or providing predictive insights, algorithms can revolutionise business efficiency and decision-making.\n",
    "\n",
    "```{figure} ./images/img1.png\n",
    "---\n",
    "scale: 35%\n",
    "align: center\n",
    "---\n",
    "```\n",
    "\n",
    "In this module, we will explore a comprehensive framework for leveraging algorithms to [streamline business processes](https://jupyterbook.org). By following these steps, learners will gain the necessary skills to make informed decisions, optimise processes, and achieve better outcomes in diverse business scenarios."
   ]
  },
  {
   "cell_type": "markdown",
   "metadata": {},
   "source": [
    "```{figure} ./images/step1_1.png\n",
    "---\n",
    "scale: 10%\n",
    "align: left\n",
    "---\n",
    "```\n",
    "\n",
    "## Define the problem\n",
    "---\n",
    "To start, clearly define the problem at hand. Consider a supervised task, such as developing an algorithm to suggest account codes for transactions. A well-defined problem will guide subsequent steps in the framework."
   ]
  },
  {
   "cell_type": "markdown",
   "metadata": {},
   "source": [
    "```{figure} ./images/step2.png\n",
    "---\n",
    "scale: 10%\n",
    "align: left\n",
    "---\n",
    "```\n",
    "\n",
    "## Collect data and pre-processing\n",
    "---\n",
    "Liaise with data engineers or cloud architects to access the necessary data. Obtain appropriate credentials for cloud-based systems or third-party APIs if external data is required. Pre-process the data to make it machine-learning-ready, ensuring any categorical data is converted into binary form, facilitating algorithm usage."
   ]
  },
  {
   "cell_type": "markdown",
   "metadata": {},
   "source": [
    "```{figure} ./images/step3.png\n",
    "---\n",
    "scale: 10%\n",
    "align: left\n",
    "---\n",
    "```\n",
    "\n",
    "## Select the right algorithm and parameters\n",
    "---\n",
    "Experiment with a small sample of the data using various algorithms (e.g., traditional tree-based, distance-based, and linear algorithms) to determine the most suitable approach. Consider factors such as data nature, variable types, class imbalances, and time constraints when choosing algorithms and hyperparameters. Save the trained model as a pickle file for future use."
   ]
  },
  {
   "cell_type": "markdown",
   "metadata": {},
   "source": [
    "`````{margin}\n",
    "```{figure} ./images/filler2.png\n",
    "---\n",
    "align: center\n",
    "---\n",
    "```\n",
    "`````\n",
    "\n",
    "\n",
    "\n",
    "```{figure} ./images/step4.png\n",
    "---\n",
    "scale: 10%\n",
    "align: left\n",
    "---\n",
    "```\n",
    "\n",
    "## Implement in a development environment\n",
    "---\n",
    "Build a cloud-based pipeline to train and test the model. Utilize cloud technologies to fetch training data, store the model pickle file, and set up a virtual machine for processing. Carefully choose a virtual machine that can handle memory requirements, especially for deep learning models. Deploy the model as an API accessible by front-end developers, enabling users or clients to generate predictions."
   ]
  },
  {
   "cell_type": "markdown",
   "metadata": {},
   "source": [
    "```{figure} ./images/step5.png\n",
    "---\n",
    "scale: 10%\n",
    "align: left\n",
    "---\n",
    "```\n",
    "\n",
    "## Deploy to production environment\n",
    "---\n",
    "Once tested in the development environment, move the pipeline to production. For continuous improvement, implement a dynamic model training step using updated data streams. Schedule model retraining during off-peak hours to avoid interference with clients. Consider using AutoML for ongoing hyperparameter optimization with new training data."
   ]
  },
  {
   "cell_type": "markdown",
   "metadata": {},
   "source": [
    "```{figure} ./images/step6.png\n",
    "---\n",
    "scale: 10%\n",
    "align: left\n",
    "---\n",
    "```\n",
    "\n",
    "## Monitor model performance\n",
    "---\n",
    "Continuously monitor the performance of the deployed model to prevent staleness. Utilize cloud-environment alert systems to receive notifications of potential issues. Regularly check model performance against established benchmarks (e.g., 95% accuracy) and set up weekly email alerts for a quick sanity check.\n",
    "\n",
    "<br>"
   ]
  },
  {
   "cell_type": "markdown",
   "metadata": {},
   "source": [
    "```{figure} ./images/conclusion.png\n",
    "---\n",
    "scale: 13%\n",
    "align: right\n",
    "---\n",
    "```\n",
    "\n",
    "## Conclusion\n",
    "\n",
    "By following this comprehensive framework, learners will gain the skills needed to leverage algorithms effectively in diverse business scenarios. From problem definition to model deployment and performance monitoring, this structured approach ensures optimal outcomes in a cloud-based environment. Embrace the power of algorithms and AI to unlock new levels of productivity, efficiency, and decision-making accuracy in the dynamic world of business.\n",
    "\n",
    "<br>"
   ]
  }
 ],
 "metadata": {
  "kernelspec": {
   "display_name": "Python 3",
   "language": "python",
   "name": "python3"
  },
  "language_info": {
   "codemirror_mode": {
    "name": "ipython",
    "version": 3
   },
   "file_extension": ".py",
   "mimetype": "text/x-python",
   "name": "python",
   "nbconvert_exporter": "python",
   "pygments_lexer": "ipython3",
   "version": "3.9.13"
  },
  "widgets": {
   "application/vnd.jupyter.widget-state+json": {
    "state": {},
    "version_major": 2,
    "version_minor": 0
   }
  }
 },
 "nbformat": 4,
 "nbformat_minor": 4
}
